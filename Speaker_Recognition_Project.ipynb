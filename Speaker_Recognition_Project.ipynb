{
  "nbformat": 4,
  "nbformat_minor": 0,
  "metadata": {
    "colab": {
      "provenance": [],
      "collapsed_sections": [],
      "mount_file_id": "1rseKFC4L8SjBEt2097uKmP9L-j8fAMdc",
      "authorship_tag": "ABX9TyMZHbKklGO9n7ZK5nH5RS6F",
      "include_colab_link": true
    },
    "kernelspec": {
      "name": "python3",
      "display_name": "Python 3"
    },
    "language_info": {
      "name": "python"
    },
    "accelerator": "GPU",
    "gpuClass": "standard"
  },
  "cells": [
    {
      "cell_type": "markdown",
      "metadata": {
        "id": "view-in-github",
        "colab_type": "text"
      },
      "source": [
        "<a href=\"https://colab.research.google.com/github/asRizvi888/Speaker-Recognition/blob/main/Speaker_Recognition_Project.ipynb\" target=\"_parent\"><img src=\"https://colab.research.google.com/assets/colab-badge.svg\" alt=\"Open In Colab\"/></a>"
      ]
    },
    {
      "cell_type": "code",
      "source": [
        "# If true, the WAV files will be read and their features will be saved in the CSV files\n",
        "# As this is the most time consuming task, only enable it if you don't have the CSV files yet\n",
        "CREATE_CSV_FILES = True"
      ],
      "metadata": {
        "id": "OnYm-0z8ZxyU"
      },
      "execution_count": 1,
      "outputs": []
    },
    {
      "cell_type": "code",
      "source": [
        "# Defines the names of the CSV files\n",
        "TRAIN_CSV_FILE = \"train.csv\"\n",
        "TEST_CSV_FILE = \"test.csv\"\n",
        "MORE_TRAIN_CSV_FILE = \"more_train.csv\"\n",
        "MORE_TEST_CSV_FILE = \"more_test.csv\""
      ],
      "metadata": {
        "id": "Vj2vZZGdZ27j"
      },
      "execution_count": 2,
      "outputs": []
    },
    {
      "cell_type": "markdown",
      "source": [
        "# Reference\n",
        "- **matplotlib**\n",
        "  [Documentation](https://matplotlib.org/stable/plot_types/index.html)\n",
        "- **librosa**\n",
        "  [Documentation](https://librosa.org/doc/latest/tutorial.html)"
      ],
      "metadata": {
        "id": "ycgJeJiHtwLD"
      }
    },
    {
      "cell_type": "code",
      "source": [
        "import matplotlib.pyplot as plt\n",
        "import numpy as np\n",
        "from matplotlib import cm\n",
        "import librosa\n",
        "import csv\n",
        "import os\n",
        "\n",
        "def extractWavFeatures(soundFilesFolder, csvFileName):\n",
        "    print(\"The features of the files in the folder \"+soundFilesFolder+\" will be saved to \"+csvFileName)\n",
        "    header = 'filename chroma_stft rmse spectral_centroid spectral_bandwidth rolloff zero_crossing_rate'\n",
        "    for i in range(1, 21):\n",
        "        header += f' mfcc{i}'\n",
        "    header += ' label'\n",
        "    header = header.split()\n",
        "    print('CSV Header: ', header)\n",
        "    file = open(csvFileName, 'w', newline='')\n",
        "    #with file:\n",
        "    writer = csv.writer(file)\n",
        "    writer.writerow(header)\n",
        "    for filename in os.listdir(soundFilesFolder):\n",
        "        number = f'{soundFilesFolder}/{filename}'\n",
        "        y, sr = librosa.load(number, mono=True, duration=30)\n",
        "        # remove leading and trailing silence\n",
        "        y, index = librosa.effects.trim(y)\n",
        "        chroma_stft = librosa.feature.chroma_stft(y=y, sr=sr)\n",
        "        rmse = librosa.feature.rms(y=y)\n",
        "        spec_cent = librosa.feature.spectral_centroid(y=y, sr=sr)\n",
        "        spec_bw = librosa.feature.spectral_bandwidth(y=y, sr=sr)\n",
        "        rolloff = librosa.feature.spectral_rolloff(y=y, sr=sr)\n",
        "        zcr = librosa.feature.zero_crossing_rate(y)\n",
        "        mfcc = librosa.feature.mfcc(y=y, sr=sr)\n",
        "        to_append = f'{filename} {np.mean(chroma_stft)} {np.mean(rmse)} {np.mean(spec_cent)} {np.mean(spec_bw)} {np.mean(rolloff)} {np.mean(zcr)}'\n",
        "        for e in mfcc:\n",
        "            to_append += f' {np.mean(e)}'\n",
        "        writer.writerow(to_append.split())\n",
        "    file.close()\n",
        "    print(\"End of extractWavFeatures\")\n",
        "\n",
        "if (CREATE_CSV_FILES == True):\n",
        "    extractWavFeatures(\"./drive/MyDrive/data/recordings/train\", TRAIN_CSV_FILE)\n",
        "    extractWavFeatures(\"./drive/MyDrive/data/recordings/test\", TEST_CSV_FILE)\n",
        "    extractWavFeatures(\"./drive/MyDrive/data/recordings/moreSpeakersTrain\", MORE_TRAIN_CSV_FILE)\n",
        "    extractWavFeatures(\"./drive/MyDrive/data/recordings/moreSpeakersTest\", MORE_TEST_CSV_FILE)\n",
        "    print(\"CSV files are created\")\n",
        "else:\n",
        "    print(\"CSV files creation is skipped\")"
      ],
      "metadata": {
        "colab": {
          "base_uri": "https://localhost:8080/",
          "height": 1000
        },
        "id": "-KRNo6czarR7",
        "outputId": "f572c2c8-8608-486a-ed80-e4b37813f659"
      },
      "execution_count": 3,
      "outputs": [
        {
          "output_type": "stream",
          "name": "stdout",
          "text": [
            "The features of the files in the folder ./drive/MyDrive/data/recordings/train will be saved to train.csv\n",
            "CSV Header:  ['filename', 'chroma_stft', 'rmse', 'spectral_centroid', 'spectral_bandwidth', 'rolloff', 'zero_crossing_rate', 'mfcc1', 'mfcc2', 'mfcc3', 'mfcc4', 'mfcc5', 'mfcc6', 'mfcc7', 'mfcc8', 'mfcc9', 'mfcc10', 'mfcc11', 'mfcc12', 'mfcc13', 'mfcc14', 'mfcc15', 'mfcc16', 'mfcc17', 'mfcc18', 'mfcc19', 'mfcc20', 'label']\n"
          ]
        },
        {
          "output_type": "stream",
          "name": "stderr",
          "text": [
            "/usr/local/lib/python3.7/dist-packages/librosa/core/audio.py:165: UserWarning: PySoundFile failed. Trying audioread instead.\n",
            "  warnings.warn(\"PySoundFile failed. Trying audioread instead.\")\n",
            "/usr/local/lib/python3.7/dist-packages/librosa/core/audio.py:165: UserWarning: PySoundFile failed. Trying audioread instead.\n",
            "  warnings.warn(\"PySoundFile failed. Trying audioread instead.\")\n",
            "/usr/local/lib/python3.7/dist-packages/librosa/core/audio.py:165: UserWarning: PySoundFile failed. Trying audioread instead.\n",
            "  warnings.warn(\"PySoundFile failed. Trying audioread instead.\")\n",
            "/usr/local/lib/python3.7/dist-packages/librosa/core/audio.py:165: UserWarning: PySoundFile failed. Trying audioread instead.\n",
            "  warnings.warn(\"PySoundFile failed. Trying audioread instead.\")\n",
            "/usr/local/lib/python3.7/dist-packages/librosa/core/audio.py:165: UserWarning: PySoundFile failed. Trying audioread instead.\n",
            "  warnings.warn(\"PySoundFile failed. Trying audioread instead.\")\n",
            "/usr/local/lib/python3.7/dist-packages/librosa/core/audio.py:165: UserWarning: PySoundFile failed. Trying audioread instead.\n",
            "  warnings.warn(\"PySoundFile failed. Trying audioread instead.\")\n",
            "/usr/local/lib/python3.7/dist-packages/librosa/core/audio.py:165: UserWarning: PySoundFile failed. Trying audioread instead.\n",
            "  warnings.warn(\"PySoundFile failed. Trying audioread instead.\")\n",
            "/usr/local/lib/python3.7/dist-packages/librosa/core/audio.py:165: UserWarning: PySoundFile failed. Trying audioread instead.\n",
            "  warnings.warn(\"PySoundFile failed. Trying audioread instead.\")\n",
            "/usr/local/lib/python3.7/dist-packages/librosa/core/audio.py:165: UserWarning: PySoundFile failed. Trying audioread instead.\n",
            "  warnings.warn(\"PySoundFile failed. Trying audioread instead.\")\n",
            "/usr/local/lib/python3.7/dist-packages/librosa/core/audio.py:165: UserWarning: PySoundFile failed. Trying audioread instead.\n",
            "  warnings.warn(\"PySoundFile failed. Trying audioread instead.\")\n",
            "/usr/local/lib/python3.7/dist-packages/librosa/core/audio.py:165: UserWarning: PySoundFile failed. Trying audioread instead.\n",
            "  warnings.warn(\"PySoundFile failed. Trying audioread instead.\")\n",
            "/usr/local/lib/python3.7/dist-packages/librosa/core/audio.py:165: UserWarning: PySoundFile failed. Trying audioread instead.\n",
            "  warnings.warn(\"PySoundFile failed. Trying audioread instead.\")\n",
            "/usr/local/lib/python3.7/dist-packages/librosa/core/audio.py:165: UserWarning: PySoundFile failed. Trying audioread instead.\n",
            "  warnings.warn(\"PySoundFile failed. Trying audioread instead.\")\n",
            "/usr/local/lib/python3.7/dist-packages/librosa/core/audio.py:165: UserWarning: PySoundFile failed. Trying audioread instead.\n",
            "  warnings.warn(\"PySoundFile failed. Trying audioread instead.\")\n",
            "/usr/local/lib/python3.7/dist-packages/librosa/core/audio.py:165: UserWarning: PySoundFile failed. Trying audioread instead.\n",
            "  warnings.warn(\"PySoundFile failed. Trying audioread instead.\")\n",
            "/usr/local/lib/python3.7/dist-packages/librosa/core/audio.py:165: UserWarning: PySoundFile failed. Trying audioread instead.\n",
            "  warnings.warn(\"PySoundFile failed. Trying audioread instead.\")\n",
            "/usr/local/lib/python3.7/dist-packages/librosa/core/audio.py:165: UserWarning: PySoundFile failed. Trying audioread instead.\n",
            "  warnings.warn(\"PySoundFile failed. Trying audioread instead.\")\n",
            "/usr/local/lib/python3.7/dist-packages/librosa/core/audio.py:165: UserWarning: PySoundFile failed. Trying audioread instead.\n",
            "  warnings.warn(\"PySoundFile failed. Trying audioread instead.\")\n",
            "/usr/local/lib/python3.7/dist-packages/librosa/core/audio.py:165: UserWarning: PySoundFile failed. Trying audioread instead.\n",
            "  warnings.warn(\"PySoundFile failed. Trying audioread instead.\")\n",
            "/usr/local/lib/python3.7/dist-packages/librosa/core/audio.py:165: UserWarning: PySoundFile failed. Trying audioread instead.\n",
            "  warnings.warn(\"PySoundFile failed. Trying audioread instead.\")\n",
            "/usr/local/lib/python3.7/dist-packages/librosa/core/audio.py:165: UserWarning: PySoundFile failed. Trying audioread instead.\n",
            "  warnings.warn(\"PySoundFile failed. Trying audioread instead.\")\n",
            "/usr/local/lib/python3.7/dist-packages/librosa/core/audio.py:165: UserWarning: PySoundFile failed. Trying audioread instead.\n",
            "  warnings.warn(\"PySoundFile failed. Trying audioread instead.\")\n"
          ]
        },
        {
          "output_type": "stream",
          "name": "stdout",
          "text": [
            "End of extractWavFeatures\n",
            "The features of the files in the folder ./drive/MyDrive/data/recordings/test will be saved to test.csv\n",
            "CSV Header:  ['filename', 'chroma_stft', 'rmse', 'spectral_centroid', 'spectral_bandwidth', 'rolloff', 'zero_crossing_rate', 'mfcc1', 'mfcc2', 'mfcc3', 'mfcc4', 'mfcc5', 'mfcc6', 'mfcc7', 'mfcc8', 'mfcc9', 'mfcc10', 'mfcc11', 'mfcc12', 'mfcc13', 'mfcc14', 'mfcc15', 'mfcc16', 'mfcc17', 'mfcc18', 'mfcc19', 'mfcc20', 'label']\n"
          ]
        },
        {
          "output_type": "stream",
          "name": "stderr",
          "text": [
            "/usr/local/lib/python3.7/dist-packages/librosa/core/audio.py:165: UserWarning: PySoundFile failed. Trying audioread instead.\n",
            "  warnings.warn(\"PySoundFile failed. Trying audioread instead.\")\n",
            "/usr/local/lib/python3.7/dist-packages/librosa/core/audio.py:165: UserWarning: PySoundFile failed. Trying audioread instead.\n",
            "  warnings.warn(\"PySoundFile failed. Trying audioread instead.\")\n",
            "/usr/local/lib/python3.7/dist-packages/librosa/core/audio.py:165: UserWarning: PySoundFile failed. Trying audioread instead.\n",
            "  warnings.warn(\"PySoundFile failed. Trying audioread instead.\")\n",
            "/usr/local/lib/python3.7/dist-packages/librosa/core/audio.py:165: UserWarning: PySoundFile failed. Trying audioread instead.\n",
            "  warnings.warn(\"PySoundFile failed. Trying audioread instead.\")\n",
            "/usr/local/lib/python3.7/dist-packages/librosa/core/audio.py:165: UserWarning: PySoundFile failed. Trying audioread instead.\n",
            "  warnings.warn(\"PySoundFile failed. Trying audioread instead.\")\n",
            "/usr/local/lib/python3.7/dist-packages/librosa/core/audio.py:165: UserWarning: PySoundFile failed. Trying audioread instead.\n",
            "  warnings.warn(\"PySoundFile failed. Trying audioread instead.\")\n",
            "/usr/local/lib/python3.7/dist-packages/librosa/core/audio.py:165: UserWarning: PySoundFile failed. Trying audioread instead.\n",
            "  warnings.warn(\"PySoundFile failed. Trying audioread instead.\")\n",
            "/usr/local/lib/python3.7/dist-packages/librosa/core/audio.py:165: UserWarning: PySoundFile failed. Trying audioread instead.\n",
            "  warnings.warn(\"PySoundFile failed. Trying audioread instead.\")\n",
            "/usr/local/lib/python3.7/dist-packages/librosa/core/audio.py:165: UserWarning: PySoundFile failed. Trying audioread instead.\n",
            "  warnings.warn(\"PySoundFile failed. Trying audioread instead.\")\n",
            "/usr/local/lib/python3.7/dist-packages/librosa/core/audio.py:165: UserWarning: PySoundFile failed. Trying audioread instead.\n",
            "  warnings.warn(\"PySoundFile failed. Trying audioread instead.\")\n",
            "/usr/local/lib/python3.7/dist-packages/librosa/core/audio.py:165: UserWarning: PySoundFile failed. Trying audioread instead.\n",
            "  warnings.warn(\"PySoundFile failed. Trying audioread instead.\")\n",
            "/usr/local/lib/python3.7/dist-packages/librosa/core/audio.py:165: UserWarning: PySoundFile failed. Trying audioread instead.\n",
            "  warnings.warn(\"PySoundFile failed. Trying audioread instead.\")\n",
            "/usr/local/lib/python3.7/dist-packages/librosa/core/audio.py:165: UserWarning: PySoundFile failed. Trying audioread instead.\n",
            "  warnings.warn(\"PySoundFile failed. Trying audioread instead.\")\n",
            "/usr/local/lib/python3.7/dist-packages/librosa/core/audio.py:165: UserWarning: PySoundFile failed. Trying audioread instead.\n",
            "  warnings.warn(\"PySoundFile failed. Trying audioread instead.\")\n",
            "/usr/local/lib/python3.7/dist-packages/librosa/core/audio.py:165: UserWarning: PySoundFile failed. Trying audioread instead.\n",
            "  warnings.warn(\"PySoundFile failed. Trying audioread instead.\")\n",
            "/usr/local/lib/python3.7/dist-packages/librosa/core/audio.py:165: UserWarning: PySoundFile failed. Trying audioread instead.\n",
            "  warnings.warn(\"PySoundFile failed. Trying audioread instead.\")\n",
            "/usr/local/lib/python3.7/dist-packages/librosa/core/audio.py:165: UserWarning: PySoundFile failed. Trying audioread instead.\n",
            "  warnings.warn(\"PySoundFile failed. Trying audioread instead.\")\n",
            "/usr/local/lib/python3.7/dist-packages/librosa/core/audio.py:165: UserWarning: PySoundFile failed. Trying audioread instead.\n",
            "  warnings.warn(\"PySoundFile failed. Trying audioread instead.\")\n",
            "/usr/local/lib/python3.7/dist-packages/librosa/core/audio.py:165: UserWarning: PySoundFile failed. Trying audioread instead.\n",
            "  warnings.warn(\"PySoundFile failed. Trying audioread instead.\")\n",
            "/usr/local/lib/python3.7/dist-packages/librosa/core/audio.py:165: UserWarning: PySoundFile failed. Trying audioread instead.\n",
            "  warnings.warn(\"PySoundFile failed. Trying audioread instead.\")\n",
            "/usr/local/lib/python3.7/dist-packages/librosa/core/audio.py:165: UserWarning: PySoundFile failed. Trying audioread instead.\n",
            "  warnings.warn(\"PySoundFile failed. Trying audioread instead.\")\n",
            "/usr/local/lib/python3.7/dist-packages/librosa/core/audio.py:165: UserWarning: PySoundFile failed. Trying audioread instead.\n",
            "  warnings.warn(\"PySoundFile failed. Trying audioread instead.\")\n"
          ]
        },
        {
          "output_type": "stream",
          "name": "stdout",
          "text": [
            "End of extractWavFeatures\n",
            "The features of the files in the folder ./drive/MyDrive/data/recordings/moreSpeakersTrain will be saved to more_train.csv\n",
            "CSV Header:  ['filename', 'chroma_stft', 'rmse', 'spectral_centroid', 'spectral_bandwidth', 'rolloff', 'zero_crossing_rate', 'mfcc1', 'mfcc2', 'mfcc3', 'mfcc4', 'mfcc5', 'mfcc6', 'mfcc7', 'mfcc8', 'mfcc9', 'mfcc10', 'mfcc11', 'mfcc12', 'mfcc13', 'mfcc14', 'mfcc15', 'mfcc16', 'mfcc17', 'mfcc18', 'mfcc19', 'mfcc20', 'label']\n"
          ]
        },
        {
          "output_type": "error",
          "ename": "FileNotFoundError",
          "evalue": "ignored",
          "traceback": [
            "\u001b[0;31m---------------------------------------------------------------------------\u001b[0m",
            "\u001b[0;31mFileNotFoundError\u001b[0m                         Traceback (most recent call last)",
            "\u001b[0;32m<ipython-input-3-6eb6684eaa64>\u001b[0m in \u001b[0;36m<module>\u001b[0;34m\u001b[0m\n\u001b[1;32m     40\u001b[0m     \u001b[0mextractWavFeatures\u001b[0m\u001b[0;34m(\u001b[0m\u001b[0;34m\"./drive/MyDrive/data/recordings/train\"\u001b[0m\u001b[0;34m,\u001b[0m \u001b[0mTRAIN_CSV_FILE\u001b[0m\u001b[0;34m)\u001b[0m\u001b[0;34m\u001b[0m\u001b[0;34m\u001b[0m\u001b[0m\n\u001b[1;32m     41\u001b[0m     \u001b[0mextractWavFeatures\u001b[0m\u001b[0;34m(\u001b[0m\u001b[0;34m\"./drive/MyDrive/data/recordings/test\"\u001b[0m\u001b[0;34m,\u001b[0m \u001b[0mTEST_CSV_FILE\u001b[0m\u001b[0;34m)\u001b[0m\u001b[0;34m\u001b[0m\u001b[0;34m\u001b[0m\u001b[0m\n\u001b[0;32m---> 42\u001b[0;31m     \u001b[0mextractWavFeatures\u001b[0m\u001b[0;34m(\u001b[0m\u001b[0;34m\"./drive/MyDrive/data/recordings/moreSpeakersTrain\"\u001b[0m\u001b[0;34m,\u001b[0m \u001b[0mMORE_TRAIN_CSV_FILE\u001b[0m\u001b[0;34m)\u001b[0m\u001b[0;34m\u001b[0m\u001b[0;34m\u001b[0m\u001b[0m\n\u001b[0m\u001b[1;32m     43\u001b[0m     \u001b[0mextractWavFeatures\u001b[0m\u001b[0;34m(\u001b[0m\u001b[0;34m\"./drive/MyDrive/data/recordings/moreSpeakersTest\"\u001b[0m\u001b[0;34m,\u001b[0m \u001b[0mMORE_TEST_CSV_FILE\u001b[0m\u001b[0;34m)\u001b[0m\u001b[0;34m\u001b[0m\u001b[0;34m\u001b[0m\u001b[0m\n\u001b[1;32m     44\u001b[0m     \u001b[0mprint\u001b[0m\u001b[0;34m(\u001b[0m\u001b[0;34m\"CSV files are created\"\u001b[0m\u001b[0;34m)\u001b[0m\u001b[0;34m\u001b[0m\u001b[0;34m\u001b[0m\u001b[0m\n",
            "\u001b[0;32m<ipython-input-3-6eb6684eaa64>\u001b[0m in \u001b[0;36mextractWavFeatures\u001b[0;34m(soundFilesFolder, csvFileName)\u001b[0m\n\u001b[1;32m     18\u001b[0m     \u001b[0mwriter\u001b[0m \u001b[0;34m=\u001b[0m \u001b[0mcsv\u001b[0m\u001b[0;34m.\u001b[0m\u001b[0mwriter\u001b[0m\u001b[0;34m(\u001b[0m\u001b[0mfile\u001b[0m\u001b[0;34m)\u001b[0m\u001b[0;34m\u001b[0m\u001b[0;34m\u001b[0m\u001b[0m\n\u001b[1;32m     19\u001b[0m     \u001b[0mwriter\u001b[0m\u001b[0;34m.\u001b[0m\u001b[0mwriterow\u001b[0m\u001b[0;34m(\u001b[0m\u001b[0mheader\u001b[0m\u001b[0;34m)\u001b[0m\u001b[0;34m\u001b[0m\u001b[0;34m\u001b[0m\u001b[0m\n\u001b[0;32m---> 20\u001b[0;31m     \u001b[0;32mfor\u001b[0m \u001b[0mfilename\u001b[0m \u001b[0;32min\u001b[0m \u001b[0mos\u001b[0m\u001b[0;34m.\u001b[0m\u001b[0mlistdir\u001b[0m\u001b[0;34m(\u001b[0m\u001b[0msoundFilesFolder\u001b[0m\u001b[0;34m)\u001b[0m\u001b[0;34m:\u001b[0m\u001b[0;34m\u001b[0m\u001b[0;34m\u001b[0m\u001b[0m\n\u001b[0m\u001b[1;32m     21\u001b[0m         \u001b[0mnumber\u001b[0m \u001b[0;34m=\u001b[0m \u001b[0;34mf'{soundFilesFolder}/{filename}'\u001b[0m\u001b[0;34m\u001b[0m\u001b[0;34m\u001b[0m\u001b[0m\n\u001b[1;32m     22\u001b[0m         \u001b[0my\u001b[0m\u001b[0;34m,\u001b[0m \u001b[0msr\u001b[0m \u001b[0;34m=\u001b[0m \u001b[0mlibrosa\u001b[0m\u001b[0;34m.\u001b[0m\u001b[0mload\u001b[0m\u001b[0;34m(\u001b[0m\u001b[0mnumber\u001b[0m\u001b[0;34m,\u001b[0m \u001b[0mmono\u001b[0m\u001b[0;34m=\u001b[0m\u001b[0;32mTrue\u001b[0m\u001b[0;34m,\u001b[0m \u001b[0mduration\u001b[0m\u001b[0;34m=\u001b[0m\u001b[0;36m30\u001b[0m\u001b[0;34m)\u001b[0m\u001b[0;34m\u001b[0m\u001b[0;34m\u001b[0m\u001b[0m\n",
            "\u001b[0;31mFileNotFoundError\u001b[0m: [Errno 2] No such file or directory: './drive/MyDrive/data/recordings/moreSpeakersTrain'"
          ]
        }
      ]
    },
    {
      "cell_type": "markdown",
      "source": [
        "# Reference\n",
        "- pandas [Documentation](https://pandas.pydata.org/docs/getting_started/intro_tutorials/02_read_write.html)\n",
        "- sklearn.preprocessing [Documentation](https://scikit-learn.org/stable/modules/preprocessing.html)"
      ],
      "metadata": {
        "id": "ZN7T9AfzvIpw"
      }
    },
    {
      "cell_type": "code",
      "source": [
        "#Reading a dataset and convert file name to corresbonding umnber\n",
        "\n",
        "import pandas as pd\n",
        "import csv\n",
        "from sklearn import preprocessing\n",
        "\n",
        "def preProcessData(csvFileName):\n",
        "    print(csvFileName+ \" will be preprocessed\")\n",
        "    data = pd.read_csv(csvFileName)\n",
        "    # we have four speakers: \n",
        "    # 0: Faruq\n",
        "    # 1: Forhad \n",
        "    # 2: Imran\n",
        "    # 3: Mamun\n",
        "    filenameArray = data['filename'] \n",
        "    speakerArray = []\n",
        "    #print(filenameArray)\n",
        "    for i in range(len(filenameArray)):\n",
        "        speaker = filenameArray[i]\n",
        "        #print(speaker)\n",
        "        \n",
        "        if speaker == \"faruq\":\n",
        "            speaker = \"0\"\n",
        "        elif speaker == \"forhad\":\n",
        "            speaker = \"1\"\n",
        "        elif speaker == \"imran\":\n",
        "            speaker = \"2\"\n",
        "        elif speaker == \"mamun\":\n",
        "            speaker = \"3\"\n",
        "        else: \n",
        "            speaker = \"4\"\n",
        "\n",
        "        #print(speaker)\n",
        "        speakerArray.append(speaker)\n",
        "    data['number'] = speakerArray\n",
        "    #Dropping unnecessary columns\n",
        "    data = data.drop(['filename'],axis=1)\n",
        "    data = data.drop(['label'],axis=1)\n",
        "    data = data.drop(['chroma_stft'],axis=1)\n",
        "    data.shape\n",
        "\n",
        "    print(\"Preprocessing is finished\")\n",
        "    print(data.head())\n",
        "    return data\n",
        "\n",
        "trainData = preProcessData(TRAIN_CSV_FILE)\n",
        "testData = preProcessData(TEST_CSV_FILE)\n",
        "moreTrainData = preProcessData(MORE_TRAIN_CSV_FILE)\n",
        "moreTestData = preProcessData(MORE_TEST_CSV_FILE)"
      ],
      "metadata": {
        "colab": {
          "base_uri": "https://localhost:8080/"
        },
        "id": "hbQwircOcjMZ",
        "outputId": "d2a156dc-bceb-47fc-d10e-3729fca07a44"
      },
      "execution_count": null,
      "outputs": [
        {
          "output_type": "stream",
          "name": "stdout",
          "text": [
            "train.csv will be preprocessed\n",
            "Preprocessing is finished\n",
            "       rmse  spectral_centroid  spectral_bandwidth      rolloff  \\\n",
            "0  0.329457           0.066041         4497.126951  2976.006748   \n",
            "1  0.301192           0.066068         4854.266194  2844.572121   \n",
            "2  0.255984           0.066062         4902.703303  2856.796842   \n",
            "3  0.435601           0.057548         4235.349548  2983.365259   \n",
            "4  0.296994           0.043398         5262.165462  2795.293281   \n",
            "\n",
            "   zero_crossing_rate     mfcc1       mfcc2      mfcc3      mfcc4     mfcc5  \\\n",
            "0         7452.795410  0.352510 -228.574402  46.374615  32.812878 -1.669779   \n",
            "1         7370.670495  0.427964 -243.747574  35.611794  33.327751  1.213277   \n",
            "2         7493.939209  0.435402 -266.575806  37.083061  36.274174 -2.311265   \n",
            "3         7446.226501  0.318319 -236.178574  41.226597  24.094782  1.405516   \n",
            "4         7703.351776  0.482742 -242.756165  23.278702  35.511627  4.046843   \n",
            "\n",
            "   ...     mfcc12    mfcc13    mfcc14    mfcc15    mfcc16    mfcc17  \\\n",
            "0  ... -15.071633  4.887861 -9.936982 -8.428925 -6.070226 -2.504383   \n",
            "1  ... -11.847798  6.048867 -7.616689 -4.333300 -7.553495 -5.976939   \n",
            "2  ... -13.612241  6.788349 -6.467152 -4.393861 -9.216537 -8.228920   \n",
            "3  ...  -9.842938  2.437682 -5.560693 -3.416228 -9.750918 -4.190756   \n",
            "4  ... -14.131250  5.266323 -9.651215  0.134399 -7.157432 -4.419874   \n",
            "\n",
            "      mfcc18    mfcc19    mfcc20  number  \n",
            "0  -7.666137 -8.213578  4.135058       0  \n",
            "1  -8.991634 -8.961463  6.100539       0  \n",
            "2  -6.617568 -9.444178  4.551265       0  \n",
            "3 -12.013921 -5.157988  1.211267       0  \n",
            "4  -3.705303 -7.756006  3.824294       0  \n",
            "\n",
            "[5 rows x 26 columns]\n",
            "test.csv will be preprocessed\n",
            "Preprocessing is finished\n",
            "       rmse  spectral_centroid  spectral_bandwidth      rolloff  \\\n",
            "0  0.435601           0.057548         4235.349548  2983.365259   \n",
            "1  0.381136           0.089399         4683.306086  2788.076659   \n",
            "2  0.255984           0.066062         4902.703303  2856.796842   \n",
            "3  0.301192           0.066068         4854.266194  2844.572121   \n",
            "4  0.329457           0.066041         4497.126951  2976.006748   \n",
            "\n",
            "   zero_crossing_rate     mfcc1       mfcc2      mfcc3      mfcc4     mfcc5  \\\n",
            "0         7446.226501  0.318319 -236.178574  41.226597  24.094782  1.405516   \n",
            "1         7477.741241  0.410505 -153.910049  25.557657  11.951549 -0.432389   \n",
            "2         7493.939209  0.435402 -266.575806  37.083061  36.274174 -2.311265   \n",
            "3         7370.670495  0.427964 -243.747574  35.611794  33.327751  1.213277   \n",
            "4         7452.795410  0.352510 -228.574402  46.374615  32.812878 -1.669779   \n",
            "\n",
            "   ...     mfcc12    mfcc13     mfcc14    mfcc15    mfcc16    mfcc17  \\\n",
            "0  ...  -9.842938  2.437682  -5.560693 -3.416228 -9.750918 -4.190756   \n",
            "1  ... -17.387293  4.193176 -10.142876 -7.225294 -8.401591 -6.729383   \n",
            "2  ... -13.612241  6.788349  -6.467152 -4.393861 -9.216537 -8.228920   \n",
            "3  ... -11.847798  6.048867  -7.616689 -4.333300 -7.553495 -5.976939   \n",
            "4  ... -15.071633  4.887861  -9.936982 -8.428925 -6.070226 -2.504383   \n",
            "\n",
            "      mfcc18    mfcc19    mfcc20  number  \n",
            "0 -12.013921 -5.157988  1.211267       0  \n",
            "1  -7.552903 -8.606462 -0.958553       0  \n",
            "2  -6.617568 -9.444178  4.551265       0  \n",
            "3  -8.991634 -8.961463  6.100539       0  \n",
            "4  -7.666137 -8.213578  4.135058       0  \n",
            "\n",
            "[5 rows x 26 columns]\n",
            "more_train.csv will be preprocessed\n",
            "Preprocessing is finished\n",
            "       rmse  spectral_centroid  spectral_bandwidth      rolloff  \\\n",
            "0  0.296994           0.043398         5262.165462  2795.293281   \n",
            "1  0.329457           0.066041         4497.126951  2976.006748   \n",
            "2  0.435601           0.057548         4235.349548  2983.365259   \n",
            "3  0.381136           0.089399         4683.306086  2788.076659   \n",
            "4  0.255984           0.066062         4902.703303  2856.796842   \n",
            "\n",
            "   zero_crossing_rate     mfcc1       mfcc2      mfcc3      mfcc4     mfcc5  \\\n",
            "0         7703.351776  0.482742 -242.756165  23.278702  35.511627  4.046843   \n",
            "1         7452.795410  0.352510 -228.574402  46.374615  32.812878 -1.669779   \n",
            "2         7446.226501  0.318319 -236.178574  41.226597  24.094782  1.405516   \n",
            "3         7477.741241  0.410505 -153.910049  25.557657  11.951549 -0.432389   \n",
            "4         7493.939209  0.435402 -266.575806  37.083061  36.274174 -2.311265   \n",
            "\n",
            "   ...     mfcc12    mfcc13     mfcc14    mfcc15    mfcc16    mfcc17  \\\n",
            "0  ... -14.131250  5.266323  -9.651215  0.134399 -7.157432 -4.419874   \n",
            "1  ... -15.071633  4.887861  -9.936982 -8.428925 -6.070226 -2.504383   \n",
            "2  ...  -9.842938  2.437682  -5.560693 -3.416228 -9.750918 -4.190756   \n",
            "3  ... -17.387293  4.193176 -10.142876 -7.225294 -8.401591 -6.729383   \n",
            "4  ... -13.612241  6.788349  -6.467152 -4.393861 -9.216537 -8.228920   \n",
            "\n",
            "      mfcc18    mfcc19    mfcc20  number  \n",
            "0  -3.705303 -7.756006  3.824294       0  \n",
            "1  -7.666137 -8.213578  4.135058       0  \n",
            "2 -12.013921 -5.157988  1.211267       0  \n",
            "3  -7.552903 -8.606462 -0.958553       0  \n",
            "4  -6.617568 -9.444178  4.551265       0  \n",
            "\n",
            "[5 rows x 26 columns]\n",
            "more_test.csv will be preprocessed\n",
            "Preprocessing is finished\n",
            "       rmse  spectral_centroid  spectral_bandwidth      rolloff  \\\n",
            "0  0.301192           0.066068         4854.266194  2844.572121   \n",
            "1  0.329457           0.066041         4497.126951  2976.006748   \n",
            "2  0.255984           0.066062         4902.703303  2856.796842   \n",
            "3  0.381136           0.089399         4683.306086  2788.076659   \n",
            "4  0.296994           0.043398         5262.165462  2795.293281   \n",
            "\n",
            "   zero_crossing_rate     mfcc1       mfcc2      mfcc3      mfcc4     mfcc5  \\\n",
            "0         7370.670495  0.427964 -243.747574  35.611794  33.327751  1.213277   \n",
            "1         7452.795410  0.352510 -228.574402  46.374615  32.812878 -1.669779   \n",
            "2         7493.939209  0.435402 -266.575806  37.083061  36.274174 -2.311265   \n",
            "3         7477.741241  0.410505 -153.910049  25.557657  11.951549 -0.432389   \n",
            "4         7703.351776  0.482742 -242.756165  23.278702  35.511627  4.046843   \n",
            "\n",
            "   ...     mfcc12    mfcc13     mfcc14    mfcc15    mfcc16    mfcc17  \\\n",
            "0  ... -11.847798  6.048867  -7.616689 -4.333300 -7.553495 -5.976939   \n",
            "1  ... -15.071633  4.887861  -9.936982 -8.428925 -6.070226 -2.504383   \n",
            "2  ... -13.612241  6.788349  -6.467152 -4.393861 -9.216537 -8.228920   \n",
            "3  ... -17.387293  4.193176 -10.142876 -7.225294 -8.401591 -6.729383   \n",
            "4  ... -14.131250  5.266323  -9.651215  0.134399 -7.157432 -4.419874   \n",
            "\n",
            "     mfcc18    mfcc19    mfcc20  number  \n",
            "0 -8.991634 -8.961463  6.100539       0  \n",
            "1 -7.666137 -8.213578  4.135058       0  \n",
            "2 -6.617568 -9.444178  4.551265       0  \n",
            "3 -7.552903 -8.606462 -0.958553       0  \n",
            "4 -3.705303 -7.756006  3.824294       0  \n",
            "\n",
            "[5 rows x 26 columns]\n"
          ]
        }
      ]
    },
    {
      "cell_type": "markdown",
      "source": [
        "# Reference \n",
        "- train_test_split [Documentation](https://scikit-learn.org/stable/modules/generated/sklearn.model_selection.train_test_split.html)"
      ],
      "metadata": {
        "id": "sI2oABRwxFk8"
      }
    },
    {
      "cell_type": "code",
      "source": [
        "# Splitting the dataset into training, validation and testing dataset\n",
        "from sklearn.model_selection import train_test_split\n",
        "X = np.array(trainData.iloc[:, :-1], dtype = float)\n",
        "y = trainData.iloc[:, -1]\n",
        "X_train, X_val, y_train, y_val = train_test_split(X, y, test_size=0.3, random_state=42)\n",
        "\n",
        "\n",
        "X_test = np.array(testData.iloc[:, :-1], dtype = float)\n",
        "y_test = testData.iloc[:, -1]\n",
        "\n",
        "print(\"Y from training data:\", y_train.shape)\n",
        "print(\"Y from validation data:\", y_val.shape)\n",
        "print(\"Y from test data:\", y_test.shape)"
      ],
      "metadata": {
        "id": "oXjYBXhBw3rV"
      },
      "execution_count": null,
      "outputs": []
    },
    {
      "cell_type": "markdown",
      "source": [
        "# Reference\n",
        "- StandardScaler [Documentation](https://scikit-learn.org/stable/modules/generated/sklearn.preprocessing.StandardScaler.html)"
      ],
      "metadata": {
        "id": "5oRfOOU6yJgf"
      }
    },
    {
      "cell_type": "code",
      "source": [
        "#Normalizing the dataset\n",
        "from sklearn.preprocessing import StandardScaler\n",
        "import numpy as np\n",
        "scaler = StandardScaler()\n",
        "X_train = scaler.fit_transform( X_train )\n",
        "X_val = scaler.transform( X_val )\n",
        "X_test = scaler.transform( X_test )\n",
        "\n",
        "print(\"X from training data\", X_train.shape)\n",
        "print(\"X from validation data\", X_val.shape)\n",
        "print(\"X from test data\", X_test.shape)"
      ],
      "metadata": {
        "id": "MovUQqobx7SK"
      },
      "execution_count": null,
      "outputs": []
    },
    {
      "cell_type": "markdown",
      "source": [
        "# Reference\n",
        "- keras [Documentation](https://keras.io/examples/audio/speaker_recognition_using_cnn/)\n",
        "- models [Documentation](https://keras.io/api/models/model_training_apis/)\n",
        "- layers [Documentation](https://keras.io/api/layers/)"
      ],
      "metadata": {
        "id": "OTbM3wYByiUw"
      }
    },
    {
      "cell_type": "code",
      "source": [
        "#Creating a Model\n",
        "import keras\n",
        "from keras import models\n",
        "from keras import layers\n",
        "\n",
        "# model 1\n",
        "model = models.Sequential()\n",
        "model.add(layers.Dense(256, activation='relu', input_shape=(X_train.shape[1],)))\n",
        "model.add(layers.Dropout(0.5))\n",
        "model.add(layers.Dense(128, activation='relu'))\n",
        "model.add(layers.Dropout(0.5))\n",
        "model.add(layers.Dense(64, activation='relu'))\n",
        "model.add(layers.Dropout(0.5))\n",
        "model.add(layers.Dense(10, activation='softmax'))\n",
        "\n",
        "# Learning Process of a model\n",
        "model.compile(optimizer='adam',\n",
        "              loss='sparse_categorical_crossentropy',\n",
        "              metrics=['accuracy'])\n",
        "\n",
        "# simple early stopping\n",
        "from keras.callbacks import EarlyStopping\n",
        "\n",
        "es = EarlyStopping(monitor='val_loss', mode='min', verbose=1)\n",
        "\n",
        "# convert catagorical data into numerical value\n",
        "\n",
        "from sklearn.preprocessing import LabelEncoder\n",
        "lb = LabelEncoder()\n",
        "y_train = lb.fit_transform(y_train)\n",
        "\n",
        "#Train with early stopping to avoid overfitting\n",
        "history = model.fit(\n",
        "    x=X_train, \n",
        "    y=y_train, \n",
        "    epochs=50, \n",
        "    batch_size=128 \n",
        "    )"
      ],
      "metadata": {
        "colab": {
          "base_uri": "https://localhost:8080/"
        },
        "id": "H2IjpfuzXopj",
        "outputId": "cec0c7a1-236d-47d9-94f9-d7b32fcb8866"
      },
      "execution_count": null,
      "outputs": [
        {
          "output_type": "stream",
          "name": "stdout",
          "text": [
            "Epoch 1/50\n",
            "1/1 [==============================] - 1s 670ms/step - loss: 2.6047 - accuracy: 0.0000e+00\n",
            "Epoch 2/50\n",
            "1/1 [==============================] - 0s 10ms/step - loss: 2.4418 - accuracy: 0.0667\n",
            "Epoch 3/50\n",
            "1/1 [==============================] - 0s 8ms/step - loss: 2.1894 - accuracy: 0.2000\n",
            "Epoch 4/50\n",
            "1/1 [==============================] - 0s 9ms/step - loss: 2.2694 - accuracy: 0.2667\n",
            "Epoch 5/50\n",
            "1/1 [==============================] - 0s 11ms/step - loss: 2.1676 - accuracy: 0.4000\n",
            "Epoch 6/50\n",
            "1/1 [==============================] - 0s 9ms/step - loss: 2.0048 - accuracy: 0.3333\n",
            "Epoch 7/50\n",
            "1/1 [==============================] - 0s 9ms/step - loss: 1.9488 - accuracy: 0.2000\n",
            "Epoch 8/50\n",
            "1/1 [==============================] - 0s 11ms/step - loss: 1.7199 - accuracy: 0.5333\n",
            "Epoch 9/50\n",
            "1/1 [==============================] - 0s 8ms/step - loss: 1.9494 - accuracy: 0.4667\n",
            "Epoch 10/50\n",
            "1/1 [==============================] - 0s 8ms/step - loss: 1.7620 - accuracy: 0.3333\n",
            "Epoch 11/50\n",
            "1/1 [==============================] - 0s 10ms/step - loss: 1.7658 - accuracy: 0.4667\n",
            "Epoch 12/50\n",
            "1/1 [==============================] - 0s 8ms/step - loss: 1.7502 - accuracy: 0.3333\n",
            "Epoch 13/50\n",
            "1/1 [==============================] - 0s 12ms/step - loss: 1.7594 - accuracy: 0.5333\n",
            "Epoch 14/50\n",
            "1/1 [==============================] - 0s 8ms/step - loss: 1.5567 - accuracy: 0.5333\n",
            "Epoch 15/50\n",
            "1/1 [==============================] - 0s 8ms/step - loss: 1.6202 - accuracy: 0.4667\n",
            "Epoch 16/50\n",
            "1/1 [==============================] - 0s 10ms/step - loss: 1.3511 - accuracy: 0.6000\n",
            "Epoch 17/50\n",
            "1/1 [==============================] - 0s 8ms/step - loss: 1.4552 - accuracy: 0.4000\n",
            "Epoch 18/50\n",
            "1/1 [==============================] - 0s 9ms/step - loss: 1.7372 - accuracy: 0.4000\n",
            "Epoch 19/50\n",
            "1/1 [==============================] - 0s 11ms/step - loss: 1.1830 - accuracy: 0.7333\n",
            "Epoch 20/50\n",
            "1/1 [==============================] - 0s 9ms/step - loss: 1.1984 - accuracy: 0.6000\n",
            "Epoch 21/50\n",
            "1/1 [==============================] - 0s 11ms/step - loss: 1.2380 - accuracy: 0.4667\n",
            "Epoch 22/50\n",
            "1/1 [==============================] - 0s 8ms/step - loss: 1.6271 - accuracy: 0.4000\n",
            "Epoch 23/50\n",
            "1/1 [==============================] - 0s 9ms/step - loss: 1.0722 - accuracy: 0.6000\n",
            "Epoch 24/50\n",
            "1/1 [==============================] - 0s 9ms/step - loss: 1.1403 - accuracy: 0.6667\n",
            "Epoch 25/50\n",
            "1/1 [==============================] - 0s 9ms/step - loss: 1.0165 - accuracy: 0.7333\n",
            "Epoch 26/50\n",
            "1/1 [==============================] - 0s 13ms/step - loss: 1.0114 - accuracy: 0.7333\n",
            "Epoch 27/50\n",
            "1/1 [==============================] - 0s 12ms/step - loss: 0.9395 - accuracy: 0.6000\n",
            "Epoch 28/50\n",
            "1/1 [==============================] - 0s 11ms/step - loss: 0.9575 - accuracy: 0.5333\n",
            "Epoch 29/50\n",
            "1/1 [==============================] - 0s 11ms/step - loss: 1.0119 - accuracy: 0.6000\n",
            "Epoch 30/50\n",
            "1/1 [==============================] - 0s 10ms/step - loss: 0.7034 - accuracy: 0.8667\n",
            "Epoch 31/50\n",
            "1/1 [==============================] - 0s 10ms/step - loss: 0.7178 - accuracy: 0.9333\n",
            "Epoch 32/50\n",
            "1/1 [==============================] - 0s 8ms/step - loss: 0.7693 - accuracy: 0.7333\n",
            "Epoch 33/50\n",
            "1/1 [==============================] - 0s 10ms/step - loss: 0.6193 - accuracy: 0.8000\n",
            "Epoch 34/50\n",
            "1/1 [==============================] - 0s 10ms/step - loss: 0.7528 - accuracy: 0.8000\n",
            "Epoch 35/50\n",
            "1/1 [==============================] - 0s 13ms/step - loss: 0.8819 - accuracy: 0.8667\n",
            "Epoch 36/50\n",
            "1/1 [==============================] - 0s 11ms/step - loss: 0.8430 - accuracy: 0.6667\n",
            "Epoch 37/50\n",
            "1/1 [==============================] - 0s 12ms/step - loss: 0.6697 - accuracy: 0.7333\n",
            "Epoch 38/50\n",
            "1/1 [==============================] - 0s 13ms/step - loss: 0.7985 - accuracy: 0.6667\n",
            "Epoch 39/50\n",
            "1/1 [==============================] - 0s 11ms/step - loss: 0.8206 - accuracy: 0.6667\n",
            "Epoch 40/50\n",
            "1/1 [==============================] - 0s 11ms/step - loss: 0.5833 - accuracy: 0.9333\n",
            "Epoch 41/50\n",
            "1/1 [==============================] - 0s 10ms/step - loss: 0.4637 - accuracy: 0.8667\n",
            "Epoch 42/50\n",
            "1/1 [==============================] - 0s 9ms/step - loss: 0.6704 - accuracy: 0.7333\n",
            "Epoch 43/50\n",
            "1/1 [==============================] - 0s 9ms/step - loss: 0.3968 - accuracy: 1.0000\n",
            "Epoch 44/50\n",
            "1/1 [==============================] - 0s 10ms/step - loss: 0.3256 - accuracy: 0.9333\n",
            "Epoch 45/50\n",
            "1/1 [==============================] - 0s 13ms/step - loss: 0.5054 - accuracy: 0.8667\n",
            "Epoch 46/50\n",
            "1/1 [==============================] - 0s 11ms/step - loss: 0.6024 - accuracy: 0.7333\n",
            "Epoch 47/50\n",
            "1/1 [==============================] - 0s 12ms/step - loss: 0.4862 - accuracy: 0.8667\n",
            "Epoch 48/50\n",
            "1/1 [==============================] - 0s 12ms/step - loss: 0.5282 - accuracy: 0.8000\n",
            "Epoch 49/50\n",
            "1/1 [==============================] - 0s 10ms/step - loss: 0.4762 - accuracy: 0.8667\n",
            "Epoch 50/50\n",
            "1/1 [==============================] - 0s 13ms/step - loss: 0.5946 - accuracy: 0.8667\n"
          ]
        }
      ]
    },
    {
      "cell_type": "code",
      "source": [
        "# plot training history\n",
        "from matplotlib import pyplot\n",
        "pyplot.plot(history.history['loss'], label='train')\n",
        "pyplot.legend()\n",
        "pyplot.show()"
      ],
      "metadata": {
        "colab": {
          "base_uri": "https://localhost:8080/",
          "height": 265
        },
        "id": "17hIwRGI5jzP",
        "outputId": "7fc50d9f-b306-4d08-b2fb-d5508e3e0415"
      },
      "execution_count": null,
      "outputs": [
        {
          "output_type": "display_data",
          "data": {
            "text/plain": [
              "<Figure size 432x288 with 1 Axes>"
            ],
            "image/png": "[encoded data removed]"
          },
          "metadata": {
            "needs_background": "light"
          }
        }
      ]
    },
    {
      "cell_type": "markdown",
      "source": [
        "# Documentation\n",
        "- model.predict [Documentation](https://www.activestate.com/resources/quick-reads/how-to-use-a-model-to-do-predictions-with-keras/)"
      ],
      "metadata": {
        "id": "K5zB2ASNz0nF"
      }
    },
    {
      "cell_type": "code",
      "source": [
        "def getSpeaker(speaker):\n",
        "    speaker = str(speaker)\n",
        "    if speaker == \"faruq\":\n",
        "        speaker = \"0\"\n",
        "    elif speaker == \"forhad\":\n",
        "        speaker = \"1\"\n",
        "    elif speaker == \"imran\":\n",
        "        speaker = \"2\"\n",
        "    elif speaker == \"mamun\":\n",
        "        speaker = \"3\"\n",
        "    else: \n",
        "        speaker = \"Unknown\"\n",
        "       #predictions = np.argmax(model.predict(x_test),axis=1) \n",
        "\n",
        "        prediction = getSpeaker(model.predict_classes(X_data[i:i+1])[0])\n",
        "def printPrediction(X_data, y_data, printDigit):\n",
        "    print('\\n# Generate predictions')\n",
        "    for i in range(len(y_data)):\n",
        "        prediction = getSpeaker(np.argmax(model.predict(X_data),axis=1))\n",
        "        speaker = getSpeaker(y_data[i])\n",
        "        if printDigit == True:\n",
        "            print(f\"Number={i}, y={speaker}- prediction={prediction}- match={speaker==prediction}\")\n",
        "        else:\n",
        "            print(f\"y={speaker}- prediction={prediction}- match={speaker==prediction}\")"
      ],
      "metadata": {
        "id": "76ewpu-iCDL5"
      },
      "execution_count": null,
      "outputs": []
    },
    {
      "cell_type": "markdown",
      "source": [
        "# For audio input"
      ],
      "metadata": {
        "id": "gP5IyHgh0MVG"
      }
    },
    {
      "cell_type": "code",
      "source": [
        "!pip install ffmpeg-python"
      ],
      "metadata": {
        "colab": {
          "base_uri": "https://localhost:8080/"
        },
        "id": "mAo2k2upHE4t",
        "outputId": "f3802f67-83d4-446d-c84c-1c2bc50c2c5f"
      },
      "execution_count": null,
      "outputs": [
        {
          "output_type": "stream",
          "name": "stdout",
          "text": [
            "Looking in indexes: https://pypi.org/simple, https://us-python.pkg.dev/colab-wheels/public/simple/\n",
            "Requirement already satisfied: ffmpeg-python in /usr/local/lib/python3.7/dist-packages (0.2.0)\n",
            "Requirement already satisfied: future in /usr/local/lib/python3.7/dist-packages (from ffmpeg-python) (0.16.0)\n"
          ]
        }
      ]
    },
    {
      "cell_type": "markdown",
      "source": [
        "# JavaScript [code](https://colab.research.google.com/gist/ricardodeazambuja/03ac98c31e87caf284f7b06286ebf7fd/microphone-to-numpy-array-from-your-browser-in-colab.ipynb) to handel Audio Input"
      ],
      "metadata": {
        "id": "1YjFy2Dy0YQV"
      }
    },
    {
      "cell_type": "code",
      "source": [
        "from IPython.display import HTML, Audio\n",
        "from google.colab.output import eval_js\n",
        "from base64 import b64decode\n",
        "import numpy as np\n",
        "from scipy.io.wavfile import read as wav_read\n",
        "import io\n",
        "import ffmpeg\n",
        "\n",
        "AUDIO_HTML = \"\"\"\n",
        "<script>\n",
        "var my_div = document.createElement(\"DIV\");\n",
        "var my_p = document.createElement(\"P\");\n",
        "var my_btn = document.createElement(\"BUTTON\");\n",
        "var t = document.createTextNode(\"Press to start recording\");\n",
        "\n",
        "my_btn.appendChild(t);\n",
        "//my_p.appendChild(my_btn);\n",
        "my_div.appendChild(my_btn);\n",
        "document.body.appendChild(my_div);\n",
        "\n",
        "var base64data = 0;\n",
        "var reader;\n",
        "var recorder, gumStream;\n",
        "var recordButton = my_btn;\n",
        "\n",
        "var handleSuccess = function(stream) {\n",
        "  gumStream = stream;\n",
        "  var options = {\n",
        "    //bitsPerSecond: 8000, //chrome seems to ignore, always 48k\n",
        "    mimeType : 'audio/webm;codecs=opus'\n",
        "    //mimeType : 'audio/webm;codecs=pcm'\n",
        "  };            \n",
        "  //recorder = new MediaRecorder(stream, options);\n",
        "  recorder = new MediaRecorder(stream);\n",
        "  recorder.ondataavailable = function(e) {            \n",
        "    var url = URL.createObjectURL(e.data);\n",
        "    var preview = document.createElement('audio');\n",
        "    preview.controls = true;\n",
        "    preview.src = url;\n",
        "    document.body.appendChild(preview);\n",
        "\n",
        "    reader = new FileReader();\n",
        "    reader.readAsDataURL(e.data); \n",
        "    reader.onloadend = function() {\n",
        "      base64data = reader.result;\n",
        "      //console.log(\"Inside FileReader:\" + base64data);\n",
        "    }\n",
        "  };\n",
        "  recorder.start();\n",
        "  };\n",
        "\n",
        "recordButton.innerText = \"Recording... press to stop\";\n",
        "\n",
        "navigator.mediaDevices.getUserMedia({audio: true}).then(handleSuccess);\n",
        "\n",
        "\n",
        "function toggleRecording() {\n",
        "  if (recorder && recorder.state == \"recording\") {\n",
        "      recorder.stop();\n",
        "      gumStream.getAudioTracks()[0].stop();\n",
        "      recordButton.innerText = \"Saving the recording... pls wait!\"\n",
        "  }\n",
        "}\n",
        "\n",
        "function sleep(ms) {\n",
        "  return new Promise(resolve => setTimeout(resolve, ms));\n",
        "}\n",
        "\n",
        "var data = new Promise(resolve=>{\n",
        "//recordButton.addEventListener(\"click\", toggleRecording);\n",
        "recordButton.onclick = ()=>{\n",
        "toggleRecording()\n",
        "\n",
        "sleep(2000).then(() => {\n",
        "  // wait 2000ms for the data to be available...\n",
        "  // ideally this should use something like await...\n",
        "  //console.log(\"Inside data:\" + base64data)\n",
        "  resolve(base64data.toString())\n",
        "\n",
        "});\n",
        "\n",
        "}\n",
        "});\n",
        "      \n",
        "</script>\n",
        "\"\"\"\n",
        "\n",
        "def get_audio():\n",
        "  display(HTML(AUDIO_HTML))\n",
        "  data = eval_js(\"data\")\n",
        "  binary = b64decode(data.split(',')[1])\n",
        "  \n",
        "  process = (ffmpeg\n",
        "    .input('pipe:0')\n",
        "    .output('pipe:1', format='wav')\n",
        "    .run_async(pipe_stdin=True, pipe_stdout=True, pipe_stderr=True, quiet=True, overwrite_output=True)\n",
        "  )\n",
        "  output, err = process.communicate(input=binary)\n",
        "  \n",
        "  riff_chunk_size = len(output) - 8\n",
        "  # Break up the chunk size into four bytes, held in b.\n",
        "  q = riff_chunk_size\n",
        "  b = []\n",
        "  for i in range(4):\n",
        "      q, r = divmod(q, 256)\n",
        "      b.append(r)\n",
        "\n",
        "  # Replace bytes 4:8 in proc.stdout with the actual size of the RIFF chunk.\n",
        "  riff = output[:4] + bytes(b) + output[8:]\n",
        "\n",
        "  sr, audio = wav_read(io.BytesIO(riff))\n",
        "\n",
        "  return audio, sr"
      ],
      "metadata": {
        "id": "afqHbgG6Hp39"
      },
      "execution_count": null,
      "outputs": []
    },
    {
      "cell_type": "code",
      "source": [
        "audio, sr = get_audio()\n",
        "\n",
        "plt.figure(figsize=(20,10))\n",
        "plt.plot(audio)\n",
        "plt.show()"
      ],
      "metadata": {
        "id": "78v5NljSIGuk"
      },
      "execution_count": null,
      "outputs": []
    },
    {
      "cell_type": "code",
      "source": [
        "audio.dtype"
      ],
      "metadata": {
        "colab": {
          "base_uri": "https://localhost:8080/"
        },
        "id": "e8Fz-J9bP1aJ",
        "outputId": "68921c9b-923b-4c84-fd34-6d2b3377beb8"
      },
      "execution_count": null,
      "outputs": [
        {
          "output_type": "execute_result",
          "data": {
            "text/plain": [
              "dtype('int16')"
            ]
          },
          "metadata": {},
          "execution_count": 32
        }
      ]
    },
    {
      "cell_type": "code",
      "source": [
        "# convert with librosa\n",
        "Audio = [float(i) for i in audio]\n",
        "\n",
        "y = np.array(Audio)\n",
        "chroma_stft = librosa.feature.chroma_stft(y=y, sr=sr)\n",
        "rmse = librosa.feature.rms(y=y)\n",
        "spec_cent = librosa.feature.spectral_centroid(y=y, sr=sr)\n",
        "spec_bw = librosa.feature.spectral_bandwidth(y=y, sr=sr)\n",
        "rolloff = librosa.feature.spectral_rolloff(y=y, sr=sr)\n",
        "zcr = librosa.feature.zero_crossing_rate(y)\n",
        "mfcc = librosa.feature.mfcc(y=y, sr=sr)\n",
        "to_append = f'{np.mean(chroma_stft)} {np.mean(rmse)} {np.mean(spec_cent)} {np.mean(spec_bw)} {np.mean(rolloff)} {np.mean(zcr)}'\n",
        "for e in mfcc:\n",
        "    to_append += f' {np.mean(e)}'\n",
        "\n",
        "sample = to_append.split()"
      ],
      "metadata": {
        "id": "UwkzNWemOmji"
      },
      "execution_count": null,
      "outputs": []
    },
    {
      "cell_type": "code",
      "source": [
        "sample"
      ],
      "metadata": {
        "colab": {
          "base_uri": "https://localhost:8080/"
        },
        "id": "Pu2GPFgyTkEN",
        "outputId": "c4327a14-88a1-4e62-daba-71749e9ecd85"
      },
      "execution_count": null,
      "outputs": [
        {
          "output_type": "execute_result",
          "data": {
            "text/plain": [
              "['0.40157507556868244',\n",
              " '1334.462825289874',\n",
              " '1887.6764933634975',\n",
              " '2939.418446337685',\n",
              " '3040.9528139356817',\n",
              " '0.03517045726454824',\n",
              " '562.9007971829626',\n",
              " '78.225272602849',\n",
              " '31.82834518998059',\n",
              " '14.317109585117406',\n",
              " '8.035302555429528',\n",
              " '-2.043160588424033',\n",
              " '-7.274794044022909',\n",
              " '-6.940969417893701',\n",
              " '-7.946325980457586',\n",
              " '-6.215179393866707',\n",
              " '-1.5484267538127217',\n",
              " '-3.9863240516556107',\n",
              " '-8.619197940169586',\n",
              " '-3.3056060247710772',\n",
              " '3.086846704486752',\n",
              " '0.34225154597668955',\n",
              " '-3.474871011230056',\n",
              " '-1.0268688804625279',\n",
              " '-1.2694476103194088',\n",
              " '-7.245616662705266']"
            ]
          },
          "metadata": {},
          "execution_count": 44
        }
      ]
    },
    {
      "cell_type": "code",
      "source": [
        "import numpy as np\n",
        "from keras import backend as K\n",
        "from keras.models import Sequential\n",
        "from keras.layers.core import Dense, Dropout, Activation, Flatten\n",
        "from keras.layers.convolutional import Convolution2D, MaxPooling2D\n",
        "from keras.preprocessing.image import ImageDataGenerator\n",
        "from sklearn.metrics import classification_report, confusion_matrix\n",
        "\n",
        "def report(X_data, y_data):\n",
        "    #Confution Matrix and Classification Report\n",
        "    #Y_pred = model.predict_classes(X_data)\n",
        "\n",
        "    Y_pred = getSpeaker(np.argmax(model.predict(X_data),axis=1))\n",
        "    y_test_num = y_data.astype(np.int64)\n",
        "\n",
        "    conf_mt = confusion_matrix(y_test_num, Y_pred)\n",
        "    print(conf_mt)\n",
        "    plt.matshow(conf_mt)\n",
        "    plt.show()\n",
        "    print('\\nClassification Report')\n",
        "    target_names = [\"faruq\", \"forhad\", \"imran\", \"mamun\", \"Unknown\"]\n",
        "    print(classification_report(y_test_num, Y_pred))"
      ],
      "metadata": {
        "id": "r0ABzf9nCYZA"
      },
      "execution_count": null,
      "outputs": []
    },
    {
      "cell_type": "code",
      "source": [
        "print('\\n# TEST DATA #\\n')\n",
        "# convert catagorical data into numerical value\n",
        "\n",
        "from sklearn.preprocessing import LabelEncoder\n",
        "lb = LabelEncoder()\n",
        "y_test = lb.fit_transform(y_test)\n",
        "\n",
        "score = model.evaluate(X_test, y_test)\n",
        "print(\"%s: %.2f%%\" % (model.metrics_names[1], score[1]*100))\n",
        "\n",
        "# Prediction\n",
        "#printPrediction(X_test[0:10], y_test[0:10], False)"
      ],
      "metadata": {
        "colab": {
          "base_uri": "https://localhost:8080/"
        },
        "id": "FDjL0j0nCrKo",
        "outputId": "b6034b95-2951-428b-ebd0-33ea4b644364"
      },
      "execution_count": null,
      "outputs": [
        {
          "output_type": "stream",
          "name": "stdout",
          "text": [
            "\n",
            "# TEST DATA #\n",
            "\n",
            "1/1 [==============================] - 0s 126ms/step - loss: 0.2434 - accuracy: 0.9545\n",
            "accuracy: 95.45%\n"
          ]
        }
      ]
    },
    {
      "cell_type": "code",
      "source": [
        "#prediction = getSpeaker(model.predict_classes(sample)[0])\n",
        "\n",
        "predict_x=model.predict(np.array(sample)[0:25])\n",
        "classes_x=np.argmax(predict_x,axis=1)\n",
        "\n",
        "getSpeaker(classes_x)\n",
        "#prediction = getSpeaker(np.argmax(model.predict(y_test),axis=1))"
      ],
      "metadata": {
        "colab": {
          "base_uri": "https://localhost:8080/",
          "height": 799
        },
        "id": "mD98BHojZrJc",
        "outputId": "c13cf1e3-d783-4c52-9824-54a2b642939c"
      },
      "execution_count": null,
      "outputs": [
        {
          "output_type": "stream",
          "name": "stdout",
          "text": [
            "WARNING:tensorflow:Model was constructed with shape (None, 25) for input KerasTensor(type_spec=TensorSpec(shape=(None, 25), dtype=tf.float32, name='dense_8_input'), name='dense_8_input', description=\"created by layer 'dense_8_input'\"), but it was called on an input with incompatible shape (None,).\n"
          ]
        },
        {
          "output_type": "error",
          "ename": "ValueError",
          "evalue": "ignored",
          "traceback": [
            "\u001b[0;31m---------------------------------------------------------------------------\u001b[0m",
            "\u001b[0;31mValueError\u001b[0m                                Traceback (most recent call last)",
            "\u001b[0;32m<ipython-input-74-fc1bce97b4c4>\u001b[0m in \u001b[0;36m<module>\u001b[0;34m()\u001b[0m\n\u001b[1;32m      1\u001b[0m \u001b[0;31m#prediction = getSpeaker(model.predict_classes(sample)[0])\u001b[0m\u001b[0;34m\u001b[0m\u001b[0;34m\u001b[0m\u001b[0;34m\u001b[0m\u001b[0m\n\u001b[1;32m      2\u001b[0m \u001b[0;34m\u001b[0m\u001b[0m\n\u001b[0;32m----> 3\u001b[0;31m \u001b[0mpredict_x\u001b[0m\u001b[0;34m=\u001b[0m\u001b[0mmodel\u001b[0m\u001b[0;34m.\u001b[0m\u001b[0mpredict\u001b[0m\u001b[0;34m(\u001b[0m\u001b[0mnp\u001b[0m\u001b[0;34m.\u001b[0m\u001b[0marray\u001b[0m\u001b[0;34m(\u001b[0m\u001b[0msample\u001b[0m\u001b[0;34m)\u001b[0m\u001b[0;34m[\u001b[0m\u001b[0;36m0\u001b[0m\u001b[0;34m:\u001b[0m\u001b[0;36m25\u001b[0m\u001b[0;34m]\u001b[0m\u001b[0;34m)\u001b[0m\u001b[0;34m\u001b[0m\u001b[0;34m\u001b[0m\u001b[0m\n\u001b[0m\u001b[1;32m      4\u001b[0m \u001b[0mclasses_x\u001b[0m\u001b[0;34m=\u001b[0m\u001b[0mnp\u001b[0m\u001b[0;34m.\u001b[0m\u001b[0margmax\u001b[0m\u001b[0;34m(\u001b[0m\u001b[0mpredict_x\u001b[0m\u001b[0;34m,\u001b[0m\u001b[0maxis\u001b[0m\u001b[0;34m=\u001b[0m\u001b[0;36m1\u001b[0m\u001b[0;34m)\u001b[0m\u001b[0;34m\u001b[0m\u001b[0;34m\u001b[0m\u001b[0m\n\u001b[1;32m      5\u001b[0m \u001b[0;34m\u001b[0m\u001b[0m\n",
            "\u001b[0;32m/usr/local/lib/python3.7/dist-packages/keras/utils/traceback_utils.py\u001b[0m in \u001b[0;36merror_handler\u001b[0;34m(*args, **kwargs)\u001b[0m\n\u001b[1;32m     65\u001b[0m     \u001b[0;32mexcept\u001b[0m \u001b[0mException\u001b[0m \u001b[0;32mas\u001b[0m \u001b[0me\u001b[0m\u001b[0;34m:\u001b[0m  \u001b[0;31m# pylint: disable=broad-except\u001b[0m\u001b[0;34m\u001b[0m\u001b[0;34m\u001b[0m\u001b[0m\n\u001b[1;32m     66\u001b[0m       \u001b[0mfiltered_tb\u001b[0m \u001b[0;34m=\u001b[0m \u001b[0m_process_traceback_frames\u001b[0m\u001b[0;34m(\u001b[0m\u001b[0me\u001b[0m\u001b[0;34m.\u001b[0m\u001b[0m__traceback__\u001b[0m\u001b[0;34m)\u001b[0m\u001b[0;34m\u001b[0m\u001b[0;34m\u001b[0m\u001b[0m\n\u001b[0;32m---> 67\u001b[0;31m       \u001b[0;32mraise\u001b[0m \u001b[0me\u001b[0m\u001b[0;34m.\u001b[0m\u001b[0mwith_traceback\u001b[0m\u001b[0;34m(\u001b[0m\u001b[0mfiltered_tb\u001b[0m\u001b[0;34m)\u001b[0m \u001b[0;32mfrom\u001b[0m \u001b[0;32mNone\u001b[0m\u001b[0;34m\u001b[0m\u001b[0;34m\u001b[0m\u001b[0m\n\u001b[0m\u001b[1;32m     68\u001b[0m     \u001b[0;32mfinally\u001b[0m\u001b[0;34m:\u001b[0m\u001b[0;34m\u001b[0m\u001b[0;34m\u001b[0m\u001b[0m\n\u001b[1;32m     69\u001b[0m       \u001b[0;32mdel\u001b[0m \u001b[0mfiltered_tb\u001b[0m\u001b[0;34m\u001b[0m\u001b[0;34m\u001b[0m\u001b[0m\n",
            "\u001b[0;32m/usr/local/lib/python3.7/dist-packages/tensorflow/python/framework/func_graph.py\u001b[0m in \u001b[0;36mautograph_handler\u001b[0;34m(*args, **kwargs)\u001b[0m\n\u001b[1;32m   1145\u001b[0m           \u001b[0;32mexcept\u001b[0m \u001b[0mException\u001b[0m \u001b[0;32mas\u001b[0m \u001b[0me\u001b[0m\u001b[0;34m:\u001b[0m  \u001b[0;31m# pylint:disable=broad-except\u001b[0m\u001b[0;34m\u001b[0m\u001b[0;34m\u001b[0m\u001b[0m\n\u001b[1;32m   1146\u001b[0m             \u001b[0;32mif\u001b[0m \u001b[0mhasattr\u001b[0m\u001b[0;34m(\u001b[0m\u001b[0me\u001b[0m\u001b[0;34m,\u001b[0m \u001b[0;34m\"ag_error_metadata\"\u001b[0m\u001b[0;34m)\u001b[0m\u001b[0;34m:\u001b[0m\u001b[0;34m\u001b[0m\u001b[0;34m\u001b[0m\u001b[0m\n\u001b[0;32m-> 1147\u001b[0;31m               \u001b[0;32mraise\u001b[0m \u001b[0me\u001b[0m\u001b[0;34m.\u001b[0m\u001b[0mag_error_metadata\u001b[0m\u001b[0;34m.\u001b[0m\u001b[0mto_exception\u001b[0m\u001b[0;34m(\u001b[0m\u001b[0me\u001b[0m\u001b[0;34m)\u001b[0m\u001b[0;34m\u001b[0m\u001b[0;34m\u001b[0m\u001b[0m\n\u001b[0m\u001b[1;32m   1148\u001b[0m             \u001b[0;32melse\u001b[0m\u001b[0;34m:\u001b[0m\u001b[0;34m\u001b[0m\u001b[0;34m\u001b[0m\u001b[0m\n\u001b[1;32m   1149\u001b[0m               \u001b[0;32mraise\u001b[0m\u001b[0;34m\u001b[0m\u001b[0;34m\u001b[0m\u001b[0m\n",
            "\u001b[0;31mValueError\u001b[0m: in user code:\n\n    File \"/usr/local/lib/python3.7/dist-packages/keras/engine/training.py\", line 1801, in predict_function  *\n        return step_function(self, iterator)\n    File \"/usr/local/lib/python3.7/dist-packages/keras/engine/training.py\", line 1790, in step_function  **\n        outputs = model.distribute_strategy.run(run_step, args=(data,))\n    File \"/usr/local/lib/python3.7/dist-packages/keras/engine/training.py\", line 1783, in run_step  **\n        outputs = model.predict_step(data)\n    File \"/usr/local/lib/python3.7/dist-packages/keras/engine/training.py\", line 1751, in predict_step\n        return self(x, training=False)\n    File \"/usr/local/lib/python3.7/dist-packages/keras/utils/traceback_utils.py\", line 67, in error_handler\n        raise e.with_traceback(filtered_tb) from None\n    File \"/usr/local/lib/python3.7/dist-packages/keras/engine/input_spec.py\", line 228, in assert_input_compatibility\n        raise ValueError(f'Input {input_index} of layer \"{layer_name}\" '\n\n    ValueError: Exception encountered when calling layer \"sequential_2\" (type Sequential).\n    \n    Input 0 of layer \"dense_8\" is incompatible with the layer: expected min_ndim=2, found ndim=1. Full shape received: (None,)\n    \n    Call arguments received:\n      • inputs=tf.Tensor(shape=(None,), dtype=string)\n      • training=False\n      • mask=None\n"
          ]
        }
      ]
    },
    {
      "cell_type": "code",
      "source": [
        "print(\"Classification Report for Test Data\\n\")\n",
        "report(X_test, y_test)"
      ],
      "metadata": {
        "id": "wg0A8bU_GSBm"
      },
      "execution_count": null,
      "outputs": []
    }
  ]
}